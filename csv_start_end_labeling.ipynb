{
 "cells": [
  {
   "cell_type": "code",
   "execution_count": 1,
   "id": "colonial-bronze",
   "metadata": {},
   "outputs": [
    {
     "name": "stdout",
     "output_type": "stream",
     "text": [
      "11111111111111111111111111111111111111111111111111111111111111111111111111111111111111111111111111111111111111111111111111111111111111111111111111111111111111111111111111111111111111111111111111111111111111111111111111111111111111111111111111111111111111111111111111111111111111111111111111111111111111111111111111111111111111111111111111111111111111111111111111111111111111111111111111111111111111111111111111111111111111111111111111111111111111111111111111111111111111111111111111111111"
     ]
    },
    {
     "ename": "KeyboardInterrupt",
     "evalue": "",
     "output_type": "error",
     "traceback": [
      "\u001b[1;31m---------------------------------------------------------------------------\u001b[0m",
      "\u001b[1;31mFileNotFoundError\u001b[0m                         Traceback (most recent call last)",
      "\u001b[1;32m~\\CodingPro\\Anaconda3\\envs\\pytorchcpu\\lib\\genericpath.py\u001b[0m in \u001b[0;36mexists\u001b[1;34m(path)\u001b[0m\n\u001b[0;32m     18\u001b[0m     \u001b[1;32mtry\u001b[0m\u001b[1;33m:\u001b[0m\u001b[1;33m\u001b[0m\u001b[1;33m\u001b[0m\u001b[0m\n\u001b[1;32m---> 19\u001b[1;33m         \u001b[0mos\u001b[0m\u001b[1;33m.\u001b[0m\u001b[0mstat\u001b[0m\u001b[1;33m(\u001b[0m\u001b[0mpath\u001b[0m\u001b[1;33m)\u001b[0m\u001b[1;33m\u001b[0m\u001b[1;33m\u001b[0m\u001b[0m\n\u001b[0m\u001b[0;32m     20\u001b[0m     \u001b[1;32mexcept\u001b[0m \u001b[0mOSError\u001b[0m\u001b[1;33m:\u001b[0m\u001b[1;33m\u001b[0m\u001b[1;33m\u001b[0m\u001b[0m\n",
      "\u001b[1;31mFileNotFoundError\u001b[0m: [WinError 2] 지정된 파일을 찾을 수 없습니다: 'D:/Deepfake/dfdc_train_all/Frames/zxgotsxjcd_00033.jpg'",
      "\nDuring handling of the above exception, another exception occurred:\n",
      "\u001b[1;31mKeyboardInterrupt\u001b[0m                         Traceback (most recent call last)",
      "\u001b[1;32m<ipython-input-1-fa5f922865b4>\u001b[0m in \u001b[0;36m<module>\u001b[1;34m\u001b[0m\n\u001b[0;32m     34\u001b[0m             \u001b[1;32mbreak\u001b[0m\u001b[1;33m\u001b[0m\u001b[1;33m\u001b[0m\u001b[0m\n\u001b[0;32m     35\u001b[0m \u001b[1;33m\u001b[0m\u001b[0m\n\u001b[1;32m---> 36\u001b[1;33m         \u001b[1;32mif\u001b[0m \u001b[0mos\u001b[0m\u001b[1;33m.\u001b[0m\u001b[0mpath\u001b[0m\u001b[1;33m.\u001b[0m\u001b[0mexists\u001b[0m\u001b[1;33m(\u001b[0m\u001b[0mimg_name\u001b[0m\u001b[1;33m)\u001b[0m\u001b[1;33m:\u001b[0m\u001b[1;33m\u001b[0m\u001b[1;33m\u001b[0m\u001b[0m\n\u001b[0m\u001b[0;32m     37\u001b[0m             \u001b[0mend\u001b[0m \u001b[1;33m+=\u001b[0m \u001b[1;36m1\u001b[0m\u001b[1;33m\u001b[0m\u001b[1;33m\u001b[0m\u001b[0m\n\u001b[0;32m     38\u001b[0m \u001b[1;33m\u001b[0m\u001b[0m\n",
      "\u001b[1;32m~\\CodingPro\\Anaconda3\\envs\\pytorchcpu\\lib\\genericpath.py\u001b[0m in \u001b[0;36mexists\u001b[1;34m(path)\u001b[0m\n\u001b[0;32m     17\u001b[0m     \u001b[1;34m\"\"\"Test whether a path exists.  Returns False for broken symbolic links\"\"\"\u001b[0m\u001b[1;33m\u001b[0m\u001b[1;33m\u001b[0m\u001b[0m\n\u001b[0;32m     18\u001b[0m     \u001b[1;32mtry\u001b[0m\u001b[1;33m:\u001b[0m\u001b[1;33m\u001b[0m\u001b[1;33m\u001b[0m\u001b[0m\n\u001b[1;32m---> 19\u001b[1;33m         \u001b[0mos\u001b[0m\u001b[1;33m.\u001b[0m\u001b[0mstat\u001b[0m\u001b[1;33m(\u001b[0m\u001b[0mpath\u001b[0m\u001b[1;33m)\u001b[0m\u001b[1;33m\u001b[0m\u001b[1;33m\u001b[0m\u001b[0m\n\u001b[0m\u001b[0;32m     20\u001b[0m     \u001b[1;32mexcept\u001b[0m \u001b[0mOSError\u001b[0m\u001b[1;33m:\u001b[0m\u001b[1;33m\u001b[0m\u001b[1;33m\u001b[0m\u001b[0m\n\u001b[0;32m     21\u001b[0m         \u001b[1;32mreturn\u001b[0m \u001b[1;32mFalse\u001b[0m\u001b[1;33m\u001b[0m\u001b[1;33m\u001b[0m\u001b[0m\n",
      "\u001b[1;31mKeyboardInterrupt\u001b[0m: "
     ]
    }
   ],
   "source": [
    "# MAKE csv file for jpg with mp4 csv file\n",
    "import pandas as pd\n",
    "import csv\n",
    "import os\n",
    "\n",
    "csv_image_filename = 'metadata_fortrain_1st.csv'\n",
    "input_file_name = \"D:/Deepfake/dfdc_train_all/Frames_index_Jai.csv\"\n",
    "output_file_name = \"deepfake_database/\"+csv_image_filename\n",
    "new_csv = pd.DataFrame()\n",
    "\n",
    "\n",
    "file_path = 'D:/Deepfake/dfdc_train_all/Frames/'\n",
    "\n",
    "\n",
    "data = pd.read_csv(input_file_name)\n",
    "\n",
    "for k,v in data.iterrows():\n",
    "    start, end = 0, 0\n",
    "    intervals = []\n",
    "\n",
    "    if v['label']=='FAKE':\n",
    "        label=1\n",
    "    else:\n",
    "        label=-1\n",
    "\n",
    "    while True:\n",
    "        video_name = v['name'].split('.')[0]\n",
    "        img_name = os.path.join(file_path, video_name + '_' + '{0:05d}'.format(end) + '.jpg')\n",
    "        if v['count']=='None':\n",
    "            v['count']=0\n",
    "        if end > int(v['count']):\n",
    "            if [start, end] not in intervals and start < end-1:\n",
    "                intervals.append([start, end-1])\n",
    "            break\n",
    "\n",
    "        if os.path.exists(img_name):\n",
    "            end += 1\n",
    "\n",
    "        else:\n",
    "            if start < end-1:\n",
    "                intervals.append([start, end-1])\n",
    "            start = end + 1\n",
    "            end = start\n",
    "    for x, y in intervals:\n",
    "        base_row = pd.DataFrame({'image_name': v['name'], 'label': label, \n",
    "                                 'start': int(x), 'end': int(y)}, index=range(1))\n",
    "        new_csv = pd.concat([new_csv, base_row], axis=0, ignore_index=True)\n",
    "    print(1,end='')\n",
    "new_csv.to_csv(output_file_name, index=False)"
   ]
  },
  {
   "cell_type": "code",
   "execution_count": 40,
   "id": "geographic-richardson",
   "metadata": {},
   "outputs": [
    {
     "name": "stdout",
     "output_type": "stream",
     "text": [
      "0\n",
      "aagfhgtpmv_00000.jpg\n",
      "1\n",
      "aagfhgtpmv_00001.jpg\n",
      "2\n",
      "aagfhgtpmv_00002.jpg\n",
      "3\n",
      "aagfhgtpmv_00003.jpg\n",
      "4\n",
      "aagfhgtpmv_00004.jpg\n",
      "5\n",
      "aagfhgtpmv_00005.jpg\n",
      "6\n",
      "aagfhgtpmv_00006.jpg\n",
      "7\n",
      "aagfhgtpmv_00007.jpg\n",
      "8\n",
      "aagfhgtpmv_00008.jpg\n",
      "9\n",
      "aagfhgtpmv_00009.jpg\n"
     ]
    }
   ],
   "source": [
    "import pandas as pd\n",
    "import os\n",
    "\n",
    "data = pd.read_csv(\"deepfake_database/traindata.csv\")\n",
    "data=data[:10]\n",
    "# print(data.loc[0:1])\n",
    "for a,b in data.iterrows():\n",
    "    print(b['image_name'])"
   ]
  }
 ],
 "metadata": {
  "kernelspec": {
   "display_name": "Python 3",
   "language": "python",
   "name": "python3"
  },
  "language_info": {
   "codemirror_mode": {
    "name": "ipython",
    "version": 3
   },
   "file_extension": ".py",
   "mimetype": "text/x-python",
   "name": "python",
   "nbconvert_exporter": "python",
   "pygments_lexer": "ipython3",
   "version": "3.6.12"
  }
 },
 "nbformat": 4,
 "nbformat_minor": 5
}
